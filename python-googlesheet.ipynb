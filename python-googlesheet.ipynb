{
 "cells": [
  {
   "cell_type": "markdown",
   "id": "bacf8137-a98a-4b08-94b5-a8efb7f2134a",
   "metadata": {},
   "source": [
    "## **Script Upload Google Sheets**"
   ]
  },
  {
   "cell_type": "markdown",
   "id": "c0cdfc39-4ecc-4009-884a-686f4b37fb79",
   "metadata": {},
   "source": [
    "#### **Library dan Setting Connection**"
   ]
  },
  {
   "cell_type": "code",
   "execution_count": 1,
   "id": "5fb73048-f77d-4963-a3b1-cee6422ffaf4",
   "metadata": {
    "scrolled": true
   },
   "outputs": [],
   "source": [
    "# pip install gspread"
   ]
  },
  {
   "cell_type": "code",
   "execution_count": 2,
   "id": "096d58f6-c6fa-44a7-aedb-684aa03a68a4",
   "metadata": {
    "scrolled": true
   },
   "outputs": [],
   "source": [
    "# pip install --upgrade oauth2client \n"
   ]
  },
  {
   "cell_type": "code",
   "execution_count": 3,
   "id": "f6b98e21-3c39-4ae8-aaa3-b21e703d5ac4",
   "metadata": {
    "tags": []
   },
   "outputs": [],
   "source": [
    "import json\n",
    "import gspread\n",
    "from oauth2client.service_account import ServiceAccountCredentials\n",
    "\n",
    "### ini adalah file key connection\n",
    "with open('digitalskola_key.json','rb') as file:\n",
    "    key = json.load(file)\n",
    "    \n",
    "scope = ['https://www.googleapis.com/auth/drive','https://spreadsheets.google.com/feeds']\n",
    "creds = ServiceAccountCredentials.from_json_keyfile_dict(key, scope)\n",
    "client = gspread.authorize(creds)\n",
    "\n",
    "### tambahkan email googledigitalskola@digitalskola-368401.iam.gserviceaccount.com \n",
    "### ke dalam google sheet anda (seperti menambahkan atau memberikan hak akses kepada google sheet)#"
   ]
  },
  {
   "cell_type": "code",
   "execution_count": null,
   "id": "ee1e4b13-e3ee-4707-bb73-2f0becca9805",
   "metadata": {},
   "outputs": [],
   "source": []
  },
  {
   "cell_type": "markdown",
   "id": "1068159e-8470-4442-837d-fc23ba5dd647",
   "metadata": {},
   "source": [
    "## **Build Connection MongoDB**"
   ]
  },
  {
   "cell_type": "code",
   "execution_count": 4,
   "id": "eb5ecb40-ecd2-4aa9-b2f1-17f7f82e2764",
   "metadata": {},
   "outputs": [
    {
     "name": "stdout",
     "output_type": "stream",
     "text": [
      "MongoDB connection successful: {'ok': 1.0}\n",
      "Databases: ['admin', 'config', 'ftde02', 'ftde03', 'ftde3', 'local']\n"
     ]
    }
   ],
   "source": [
    "import json\n",
    "from pymongo import MongoClient\n",
    "\n",
    "# Load configuration from the JSON file\n",
    "with open('producer/config.json', 'r') as config_file:\n",
    "    config = json.load(config_file)\n",
    "\n",
    "# MongoDB connection details\n",
    "mongodb_config = config['mongodb']\n",
    "mongo_uri = mongodb_config['uri']\n",
    "mongo_db = mongodb_config['db']\n",
    "\n",
    "try:\n",
    "    # Connect to MongoDB using the loaded URI\n",
    "    client = MongoClient(mongo_uri)\n",
    "    db = client[mongo_db]  # Select the database\n",
    "    server_status = db.command(\"ping\")\n",
    "    print(\"MongoDB connection successful:\", server_status)\n",
    "\n",
    "    # List all databases\n",
    "    databases = client.list_database_names()\n",
    "    print(\"Databases:\", databases)\n",
    "\n",
    "except Exception as e:\n",
    "    print(\"An error occurred:\", e)\n"
   ]
  },
  {
   "cell_type": "markdown",
   "id": "df2d2581-5cf1-4075-b62c-8c0e3433ff32",
   "metadata": {},
   "source": [
    "## **Load MongoDB Collection**"
   ]
  },
  {
   "cell_type": "code",
   "execution_count": 5,
   "id": "beed8230-c251-4a99-b7df-954873ba9bd3",
   "metadata": {},
   "outputs": [
    {
     "name": "stdout",
     "output_type": "stream",
     "text": [
      "MongoDB connection successful: {'ok': 1.0}\n",
      "Using database: ftde3\n",
      "Data saved into DataFrame\n"
     ]
    }
   ],
   "source": [
    "import json\n",
    "from pymongo import MongoClient\n",
    "import pandas as pd\n",
    "\n",
    "try:\n",
    "    # Load MongoDB configuration from JSON config\n",
    "    with open('producer/config.json', 'r') as config_file:\n",
    "        config = json.load(config_file)\n",
    "    \n",
    "    mongo_config = config['mongodb']\n",
    "    mongo_uri = mongo_config['uri']\n",
    "\n",
    "    # Connect to MongoDB server using the URI from config\n",
    "    server = MongoClient(mongo_uri)\n",
    "    \n",
    "    # Verify the connection\n",
    "    db = server.admin\n",
    "    server_status = db.command(\"ping\")\n",
    "    print(\"MongoDB connection successful:\", server_status)\n",
    "\n",
    "    # Access a specific database\n",
    "    database_name = \"ftde3\"  # Replace with your database name\n",
    "    db = server[database_name]\n",
    "    print(f\"Using database: {database_name}\")\n",
    "\n",
    "    # Access a specific collection\n",
    "    collection_name = \"fraud_jeanneta\"  # Replace with your collection name\n",
    "    collection = db[collection_name]\n",
    "\n",
    "    # Query the collection (fetch first 5 documents)\n",
    "    documents = collection.find()\n",
    "\n",
    "    # Convert documents to a DataFrame\n",
    "    data_list = list(documents)  # Convert cursor to a list\n",
    "    df = pd.DataFrame(data_list)  # Create a DataFrame from the list\n",
    "\n",
    "    print(\"Data saved into DataFrame\")\n",
    "\n",
    "except Exception as e:\n",
    "    print(\"An error occurred:\", e)\n"
   ]
  },
  {
   "cell_type": "code",
   "execution_count": 6,
   "id": "abf5b312-e450-4680-aa3d-78448ad803e9",
   "metadata": {
    "scrolled": true
   },
   "outputs": [
    {
     "data": {
      "text/html": [
       "<div>\n",
       "<style scoped>\n",
       "    .dataframe tbody tr th:only-of-type {\n",
       "        vertical-align: middle;\n",
       "    }\n",
       "\n",
       "    .dataframe tbody tr th {\n",
       "        vertical-align: top;\n",
       "    }\n",
       "\n",
       "    .dataframe thead th {\n",
       "        text-align: right;\n",
       "    }\n",
       "</style>\n",
       "<table border=\"1\" class=\"dataframe\">\n",
       "  <thead>\n",
       "    <tr style=\"text-align: right;\">\n",
       "      <th></th>\n",
       "      <th>_id</th>\n",
       "      <th>step</th>\n",
       "      <th>type</th>\n",
       "      <th>amount</th>\n",
       "      <th>nameOrig</th>\n",
       "      <th>newbalanceOrig</th>\n",
       "      <th>nameDest</th>\n",
       "      <th>newbalanceDest</th>\n",
       "      <th>oldbalanceOrg</th>\n",
       "      <th>oldbalanceDest</th>\n",
       "      <th>predict</th>\n",
       "    </tr>\n",
       "  </thead>\n",
       "  <tbody>\n",
       "    <tr>\n",
       "      <th>0</th>\n",
       "      <td>676a0e53f7036fea14c7b262</td>\n",
       "      <td>1</td>\n",
       "      <td>PAYMENT</td>\n",
       "      <td>2734.77</td>\n",
       "      <td>C1756207614</td>\n",
       "      <td>1776.23</td>\n",
       "      <td>M1214133948</td>\n",
       "      <td>0.00</td>\n",
       "      <td>4511.00</td>\n",
       "      <td>0.00</td>\n",
       "      <td>White List</td>\n",
       "    </tr>\n",
       "    <tr>\n",
       "      <th>1</th>\n",
       "      <td>676a0e58f7036fea14c7b263</td>\n",
       "      <td>1</td>\n",
       "      <td>CASH_OUT</td>\n",
       "      <td>102153.86</td>\n",
       "      <td>C2015301874</td>\n",
       "      <td>0.00</td>\n",
       "      <td>C1335050193</td>\n",
       "      <td>353532.56</td>\n",
       "      <td>1776.23</td>\n",
       "      <td>230676.07</td>\n",
       "      <td>White List</td>\n",
       "    </tr>\n",
       "    <tr>\n",
       "      <th>2</th>\n",
       "      <td>676a0e5df7036fea14c7b264</td>\n",
       "      <td>1</td>\n",
       "      <td>PAYMENT</td>\n",
       "      <td>584.52</td>\n",
       "      <td>C712627377</td>\n",
       "      <td>14894.48</td>\n",
       "      <td>M782228073</td>\n",
       "      <td>0.00</td>\n",
       "      <td>15479.00</td>\n",
       "      <td>0.00</td>\n",
       "      <td>White List</td>\n",
       "    </tr>\n",
       "    <tr>\n",
       "      <th>3</th>\n",
       "      <td>676a0e62f7036fea14c7b265</td>\n",
       "      <td>1</td>\n",
       "      <td>PAYMENT</td>\n",
       "      <td>6113.14</td>\n",
       "      <td>C399373008</td>\n",
       "      <td>9515.86</td>\n",
       "      <td>M391506011</td>\n",
       "      <td>0.00</td>\n",
       "      <td>15629.00</td>\n",
       "      <td>0.00</td>\n",
       "      <td>White List</td>\n",
       "    </tr>\n",
       "    <tr>\n",
       "      <th>4</th>\n",
       "      <td>676a0e67f7036fea14c7b266</td>\n",
       "      <td>1</td>\n",
       "      <td>CASH_OUT</td>\n",
       "      <td>369989.20</td>\n",
       "      <td>C1936550492</td>\n",
       "      <td>0.00</td>\n",
       "      <td>C1789550256</td>\n",
       "      <td>4619798.56</td>\n",
       "      <td>9515.86</td>\n",
       "      <td>518243.06</td>\n",
       "      <td>White List</td>\n",
       "    </tr>\n",
       "    <tr>\n",
       "      <th>...</th>\n",
       "      <td>...</td>\n",
       "      <td>...</td>\n",
       "      <td>...</td>\n",
       "      <td>...</td>\n",
       "      <td>...</td>\n",
       "      <td>...</td>\n",
       "      <td>...</td>\n",
       "      <td>...</td>\n",
       "      <td>...</td>\n",
       "      <td>...</td>\n",
       "      <td>...</td>\n",
       "    </tr>\n",
       "    <tr>\n",
       "      <th>181</th>\n",
       "      <td>676a11ddf7036fea14c7b317</td>\n",
       "      <td>1</td>\n",
       "      <td>CASH_IN</td>\n",
       "      <td>110226.34</td>\n",
       "      <td>C1475192960</td>\n",
       "      <td>1601450.63</td>\n",
       "      <td>C1816757085</td>\n",
       "      <td>10681238.79</td>\n",
       "      <td>1601450.63</td>\n",
       "      <td>1601450.63</td>\n",
       "      <td>White List</td>\n",
       "    </tr>\n",
       "    <tr>\n",
       "      <th>182</th>\n",
       "      <td>676a11e2f7036fea14c7b318</td>\n",
       "      <td>1</td>\n",
       "      <td>CASH_IN</td>\n",
       "      <td>142577.44</td>\n",
       "      <td>C727197178</td>\n",
       "      <td>1744028.07</td>\n",
       "      <td>C1100439041</td>\n",
       "      <td>0.00</td>\n",
       "      <td>1601450.63</td>\n",
       "      <td>174480.01</td>\n",
       "      <td>White List</td>\n",
       "    </tr>\n",
       "    <tr>\n",
       "      <th>183</th>\n",
       "      <td>676a11e7f7036fea14c7b319</td>\n",
       "      <td>1</td>\n",
       "      <td>CASH_IN</td>\n",
       "      <td>6915.38</td>\n",
       "      <td>C1406253491</td>\n",
       "      <td>1750943.45</td>\n",
       "      <td>C85777802</td>\n",
       "      <td>0.00</td>\n",
       "      <td>1744028.07</td>\n",
       "      <td>49685.00</td>\n",
       "      <td>White List</td>\n",
       "    </tr>\n",
       "    <tr>\n",
       "      <th>184</th>\n",
       "      <td>676a11ecf7036fea14c7b31a</td>\n",
       "      <td>1</td>\n",
       "      <td>CASH_IN</td>\n",
       "      <td>157108.01</td>\n",
       "      <td>C749604930</td>\n",
       "      <td>1908051.46</td>\n",
       "      <td>C985934102</td>\n",
       "      <td>971418.91</td>\n",
       "      <td>1750943.45</td>\n",
       "      <td>1576572.37</td>\n",
       "      <td>White List</td>\n",
       "    </tr>\n",
       "    <tr>\n",
       "      <th>185</th>\n",
       "      <td>676a11f1f7036fea14c7b31b</td>\n",
       "      <td>1</td>\n",
       "      <td>CASH_IN</td>\n",
       "      <td>223555.14</td>\n",
       "      <td>C373097727</td>\n",
       "      <td>2131606.60</td>\n",
       "      <td>C564160838</td>\n",
       "      <td>1254956.07</td>\n",
       "      <td>1908051.46</td>\n",
       "      <td>1462656.64</td>\n",
       "      <td>White List</td>\n",
       "    </tr>\n",
       "  </tbody>\n",
       "</table>\n",
       "<p>186 rows × 11 columns</p>\n",
       "</div>"
      ],
      "text/plain": [
       "                          _id  step      type     amount     nameOrig  \\\n",
       "0    676a0e53f7036fea14c7b262     1   PAYMENT    2734.77  C1756207614   \n",
       "1    676a0e58f7036fea14c7b263     1  CASH_OUT  102153.86  C2015301874   \n",
       "2    676a0e5df7036fea14c7b264     1   PAYMENT     584.52   C712627377   \n",
       "3    676a0e62f7036fea14c7b265     1   PAYMENT    6113.14   C399373008   \n",
       "4    676a0e67f7036fea14c7b266     1  CASH_OUT  369989.20  C1936550492   \n",
       "..                        ...   ...       ...        ...          ...   \n",
       "181  676a11ddf7036fea14c7b317     1   CASH_IN  110226.34  C1475192960   \n",
       "182  676a11e2f7036fea14c7b318     1   CASH_IN  142577.44   C727197178   \n",
       "183  676a11e7f7036fea14c7b319     1   CASH_IN    6915.38  C1406253491   \n",
       "184  676a11ecf7036fea14c7b31a     1   CASH_IN  157108.01   C749604930   \n",
       "185  676a11f1f7036fea14c7b31b     1   CASH_IN  223555.14   C373097727   \n",
       "\n",
       "     newbalanceOrig     nameDest  newbalanceDest  oldbalanceOrg  \\\n",
       "0           1776.23  M1214133948            0.00        4511.00   \n",
       "1              0.00  C1335050193       353532.56        1776.23   \n",
       "2          14894.48   M782228073            0.00       15479.00   \n",
       "3           9515.86   M391506011            0.00       15629.00   \n",
       "4              0.00  C1789550256      4619798.56        9515.86   \n",
       "..              ...          ...             ...            ...   \n",
       "181      1601450.63  C1816757085     10681238.79     1601450.63   \n",
       "182      1744028.07  C1100439041            0.00     1601450.63   \n",
       "183      1750943.45    C85777802            0.00     1744028.07   \n",
       "184      1908051.46   C985934102       971418.91     1750943.45   \n",
       "185      2131606.60   C564160838      1254956.07     1908051.46   \n",
       "\n",
       "     oldbalanceDest     predict  \n",
       "0              0.00  White List  \n",
       "1         230676.07  White List  \n",
       "2              0.00  White List  \n",
       "3              0.00  White List  \n",
       "4         518243.06  White List  \n",
       "..              ...         ...  \n",
       "181      1601450.63  White List  \n",
       "182       174480.01  White List  \n",
       "183        49685.00  White List  \n",
       "184      1576572.37  White List  \n",
       "185      1462656.64  White List  \n",
       "\n",
       "[186 rows x 11 columns]"
      ]
     },
     "execution_count": 6,
     "metadata": {},
     "output_type": "execute_result"
    }
   ],
   "source": [
    "df"
   ]
  },
  {
   "cell_type": "markdown",
   "id": "3e0a7002-39d4-4eb7-99f5-8ca26bbe566d",
   "metadata": {},
   "source": [
    "### **Uplaod Data dari DataFrame ke Google Sheet**"
   ]
  },
  {
   "cell_type": "code",
   "execution_count": 52,
   "id": "3c05d757-6b93-4c9c-b729-493658f06e41",
   "metadata": {},
   "outputs": [
    {
     "data": {
      "text/plain": [
       "{'spreadsheetId': '1AW94j_xIgFpAHG8MZeVdvj9wG3Gudjwcyavr8plMgLg',\n",
       " 'updatedRange': 'fraud!A1:K1843',\n",
       " 'updatedRows': 1843,\n",
       " 'updatedColumns': 11,\n",
       " 'updatedCells': 20273}"
      ]
     },
     "execution_count": 52,
     "metadata": {},
     "output_type": "execute_result"
    }
   ],
   "source": [
    "# ganti dengan nama google sheets anda\n",
    "sheet = client.open('ftde03-jeanneta')\n",
    "\n",
    "# ganti sesuai dengan nama sheet didalam google sheets anda\n",
    "# siapkan nama kolom pada sheet di google sheet anda\n",
    "export = sheet.worksheet('fraud')\n",
    "export.update([df.columns.values.tolist()] + df.astype(str).values.tolist())"
   ]
  },
  {
   "cell_type": "code",
   "execution_count": null,
   "id": "d9e5b4e1-a4cb-4510-8e16-654bf25f5c2a",
   "metadata": {},
   "outputs": [],
   "source": []
  }
 ],
 "metadata": {
  "kernelspec": {
   "display_name": "Python 3 (ipykernel)",
   "language": "python",
   "name": "python3"
  },
  "language_info": {
   "codemirror_mode": {
    "name": "ipython",
    "version": 3
   },
   "file_extension": ".py",
   "mimetype": "text/x-python",
   "name": "python",
   "nbconvert_exporter": "python",
   "pygments_lexer": "ipython3",
   "version": "3.12.7"
  }
 },
 "nbformat": 4,
 "nbformat_minor": 5
}
