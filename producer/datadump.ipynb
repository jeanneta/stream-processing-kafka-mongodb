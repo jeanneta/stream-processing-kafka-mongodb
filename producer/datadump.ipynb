{
 "cells": [
  {
   "cell_type": "code",
   "execution_count": 130,
   "id": "bd246492-53b5-4024-8e32-5aca26d4b828",
   "metadata": {},
   "outputs": [
    {
     "name": "stdout",
     "output_type": "stream",
     "text": [
      "Requirement already satisfied: sqlalchemy in /Users/jeannetaoliviasantoso/anaconda3/lib/python3.12/site-packages (1.4.54)\n",
      "Collecting sqlalchemy\n",
      "  Using cached SQLAlchemy-2.0.36-cp312-cp312-macosx_11_0_arm64.whl.metadata (9.7 kB)\n",
      "Requirement already satisfied: typing-extensions>=4.6.0 in /Users/jeannetaoliviasantoso/anaconda3/lib/python3.12/site-packages (from sqlalchemy) (4.11.0)\n",
      "Using cached SQLAlchemy-2.0.36-cp312-cp312-macosx_11_0_arm64.whl (2.1 MB)\n",
      "Installing collected packages: sqlalchemy\n",
      "  Attempting uninstall: sqlalchemy\n",
      "    Found existing installation: SQLAlchemy 1.4.54\n",
      "    Uninstalling SQLAlchemy-1.4.54:\n",
      "      Successfully uninstalled SQLAlchemy-1.4.54\n",
      "\u001b[31mERROR: pip's dependency resolver does not currently take into account all the packages that are installed. This behaviour is the source of the following dependency conflicts.\n",
      "marshmallow-sqlalchemy 0.28.2 requires SQLAlchemy<2.0,>=1.3.0, but you have sqlalchemy 2.0.36 which is incompatible.\n",
      "apache-airflow 2.10.3 requires sqlalchemy<2.0,>=1.4.36, but you have sqlalchemy 2.0.36 which is incompatible.\n",
      "flask-appbuilder 4.5.2 requires SQLAlchemy<1.5, but you have sqlalchemy 2.0.36 which is incompatible.\u001b[0m\u001b[31m\n",
      "\u001b[0mSuccessfully installed sqlalchemy-2.0.36\n",
      "Note: you may need to restart the kernel to use updated packages.\n"
     ]
    }
   ],
   "source": [
    "pip install --upgrade sqlalchemy\n"
   ]
  },
  {
   "cell_type": "code",
   "execution_count": 3,
   "id": "5d78fa28-9266-4c51-80c8-b6c05b871498",
   "metadata": {},
   "outputs": [
    {
     "name": "stdout",
     "output_type": "stream",
     "text": [
      "Data inserted successfully\n"
     ]
    }
   ],
   "source": [
    "import json\n",
    "import sqlalchemy as sa\n",
    "from sqlalchemy import create_engine\n",
    "import pandas as pd\n",
    "\n",
    "# Load configuration from the JSON file\n",
    "with open('config.json', 'r') as config_file:\n",
    "    config = json.load(config_file)\n",
    "\n",
    "# Database connection details\n",
    "db_config = config['database']\n",
    "username = db_config['username']\n",
    "password = db_config['password']\n",
    "host = db_config['host']\n",
    "port = db_config['port']\n",
    "database = db_config['database']\n",
    "\n",
    "# Using sa.URL.create() to safely construct the connection URL\n",
    "connection_url = sa.URL.create(\n",
    "    \"postgresql+psycopg2\",  # Specify the PostgreSQL dialect and driver\n",
    "    username=username,\n",
    "    password=password,\n",
    "    host=host,\n",
    "    port=port,\n",
    "    database=database\n",
    ")\n",
    "\n",
    "# Create the SQLAlchemy engine with the generated URL\n",
    "engine = create_engine(connection_url)\n",
    "\n",
    "# Load data from CSV\n",
    "csv_path = \"Old_Information.csv\"  # You can also load CSV path from the config if needed\n",
    "data = pd.read_csv(csv_path)\n",
    "\n",
    "# Table name\n",
    "table_name = \"old_information_jeanneta\"\n",
    "\n",
    "# Write data to the database using the engine directly\n",
    "try:\n",
    "    # pandas `to_sql` automatically handles the connection through SQLAlchemy\n",
    "    data.to_sql(table_name, engine, if_exists='append', index=False)\n",
    "    print(\"Data inserted successfully\")\n",
    "except Exception as e:\n",
    "    print(f\"Error occurred: {e}\")\n"
   ]
  },
  {
   "cell_type": "code",
   "execution_count": null,
   "id": "4d37c7c6-d0a9-4592-af18-9ca0e76acd4a",
   "metadata": {},
   "outputs": [],
   "source": []
  }
 ],
 "metadata": {
  "kernelspec": {
   "display_name": "Python 3 (ipykernel)",
   "language": "python",
   "name": "python3"
  },
  "language_info": {
   "codemirror_mode": {
    "name": "ipython",
    "version": 3
   },
   "file_extension": ".py",
   "mimetype": "text/x-python",
   "name": "python",
   "nbconvert_exporter": "python",
   "pygments_lexer": "ipython3",
   "version": "3.12.7"
  }
 },
 "nbformat": 4,
 "nbformat_minor": 5
}
